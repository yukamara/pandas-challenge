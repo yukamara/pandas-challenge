{
 "cells": [
  {
   "cell_type": "code",
   "execution_count": null,
   "metadata": {},
   "outputs": [],
   "source": [
    "averages = sdc_df[['school_name', 'reading_score', 'math_score']].groupby(['school_name']).agg(['mean'])\n",
    "averages_df = pd.DataFrame(averages)\n",
    "\n",
    "school_budget = sdc_df[['school_name', 'budget']].groupby(['school_name']).agg(['unique'])\n",
    "school_budget_df = pd.DataFrame(school_budget)\n",
    "school_budget_df['budget'] = budget_df.loc[:, 'budget'].astype(float)\n",
    "\n",
    "total_students = sdc_df[['school_name', 'student_name']].groupby(['school_name']).agg(['count'])\n",
    "total_students_df = pd.DataFrame(total_students)\n",
    "\n",
    "school_type = sdc_df[['school_name', 'type']].groupby(['school_name']).agg(['unique'])\n",
    "school_type_df = pd.DataFrame(school_type)\n",
    "\n",
    "math_pass_count = len(sdc_df[sdc_df['math_score']>=70].groupby(['school_name']))\n",
    "math_pass_count\n",
    "\n",
    "\n",
    "#budget_per_student = (school_budget/student_count)\n",
    "#budget_per_student_df = pd.DataFrame(budget_per_student)\n",
    "#budget_per_student_df\n",
    "\n",
    "#school_summary_df = pd.concat([school_type_df, total_students_df, school_budget_df, budget_per_student_df, averages_df], axis=1, join='inner')\n",
    "#school_summary_df\n",
    "\n",
    "math_pass_count = (grouped_schools['math_score']>=70).value_count()                   \n",
    "#math_pass_percent = (math_pass_count/total_students) * 100\n",
    "\n",
    "\n",
    "\n",
    "#total_students_df\n",
    "#budget_df\n",
    "#budget_per_student_df\n",
    "\n",
    "\n",
    "\n",
    "\n",
    "school_summary1_df = pd.concat([school_type, total_students_df, school_budget_df, budget_per_student_df, math_average_df,\n",
    "reading_average_df], axis=1, join='inner')\n",
    "school_summary1_df = school_summary_df.rename(columns={\"type\": \"School Type\", 'school_name':'Total Students', \"budget\":\"Total School Budget\", \"math_score\": \"Average Math Score\", \"reading_score\":\"Average Reading Score\"})\n",
    "school_summary1_df"
   ]
  }
 ],
 "metadata": {
  "kernelspec": {
   "display_name": "Python [conda env:PythonData] *",
   "language": "python",
   "name": "conda-env-PythonData-py"
  },
  "language_info": {
   "codemirror_mode": {
    "name": "ipython",
    "version": 3
   },
   "file_extension": ".py",
   "mimetype": "text/x-python",
   "name": "python",
   "nbconvert_exporter": "python",
   "pygments_lexer": "ipython3",
   "version": "3.6.10"
  }
 },
 "nbformat": 4,
 "nbformat_minor": 5
}
